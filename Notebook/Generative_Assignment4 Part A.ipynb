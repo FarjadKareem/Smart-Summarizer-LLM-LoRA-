{
 "cells": [
  {
   "cell_type": "code",
   "execution_count": 1,
   "id": "dd1c6159-1cd6-4f3d-afbf-9a6b8877e543",
   "metadata": {},
   "outputs": [],
   "source": [
    "import warnings\n",
    "warnings.filterwarnings(\"ignore\")"
   ]
  },
  {
   "cell_type": "code",
   "execution_count": 2,
   "id": "8f8b9d1e-4e7a-4b44-9308-33c200793243",
   "metadata": {},
   "outputs": [],
   "source": [
    "import torch\n",
    "from datasets import load_dataset, DatasetDict\n",
    "from transformers import AutoTokenizer\n",
    "from sklearn.model_selection import train_test_split"
   ]
  },
  {
   "cell_type": "code",
   "execution_count": 3,
   "id": "5ffb1d9f-b1c6-4529-8529-a5d37b3f2705",
   "metadata": {},
   "outputs": [
    {
     "name": "stdout",
     "output_type": "stream",
     "text": [
      "Using device: cuda\n"
     ]
    }
   ],
   "source": [
    "# Set device\n",
    "device = \"cuda\" if torch.cuda.is_available() else \"cpu\"\n",
    "print(\"Using device:\", device)\n"
   ]
  },
  {
   "cell_type": "markdown",
   "id": "69f6b036-ada6-4cf4-9a25-3f581d4421ee",
   "metadata": {},
   "source": [
    "# Part 1: Data Preprocessing\n",
    "● Load the arXiv summarization dataset.\n",
    "● Select a subset of 5,000 samples.\n",
    "● Extract input and target pairs:\n",
    "○ Input: Article.\n",
    "○ Target: Abstract/Summary\n",
    "● Tokenize the dataset using the tokenizer from your base model.\n",
    "● Split the data into Training (80%), Validation (10%), and Test (10%) sets."
   ]
  },
  {
   "cell_type": "code",
   "execution_count": 4,
   "id": "a6b34fb2-e41f-4496-acc0-8c64c686def0",
   "metadata": {},
   "outputs": [],
   "source": [
    "dataset = load_dataset(\"ccdv/arxiv-summarization\")\n",
    "subset = dataset['train'].select(range(5000))"
   ]
  },
  {
   "cell_type": "code",
   "execution_count": 5,
   "id": "4d87e2b0-5b9b-4ed2-a6fd-05ca9d5cb8b9",
   "metadata": {},
   "outputs": [],
   "source": [
    "def preprocess(example):\n",
    "    return {\n",
    "        \"input\": example[\"article\"],\n",
    "        \"target\": example[\"abstract\"]\n",
    "    }\n",
    "subset = subset.map(preprocess, remove_columns=subset.column_names)\n"
   ]
  },
  {
   "cell_type": "code",
   "execution_count": 6,
   "id": "8b917915-89d0-43b8-b6aa-dcfe0adb897f",
   "metadata": {},
   "outputs": [],
   "source": [
    "local_model_path = \"./Llama-3.2-3B-Instruct\"  \n",
    "tokenizer = AutoTokenizer.from_pretrained(local_model_path, use_fast=True)\n",
    "if tokenizer.pad_token is None:\n",
    "    tokenizer.pad_token = tokenizer.eos_token"
   ]
  },
  {
   "cell_type": "code",
   "execution_count": 7,
   "id": "526e1b40-64db-4fb8-99cd-e2130f9b9133",
   "metadata": {},
   "outputs": [],
   "source": [
    "def tokenize_function(example):\n",
    "    model_inputs = tokenizer(\n",
    "        example[\"input\"], max_length=512, truncation=True, padding=\"max_length\"\n",
    "    )\n",
    "    labels = tokenizer(\n",
    "        example[\"target\"], max_length=512, truncation=True, padding=\"max_length\"\n",
    "    )\n",
    "    model_inputs[\"labels\"] = labels[\"input_ids\"]\n",
    "    return model_inputs\n",
    "\n",
    "tokenized_dataset = subset.map(tokenize_function, batched=True, remove_columns=[\"input\", \"target\"])"
   ]
  },
  {
   "cell_type": "code",
   "execution_count": 8,
   "id": "db050c26-155d-49af-bd0f-2746d2e4403d",
   "metadata": {},
   "outputs": [
    {
     "name": "stdout",
     "output_type": "stream",
     "text": [
      "DatasetDict({\n",
      "    train: Dataset({\n",
      "        features: ['input_ids', 'attention_mask', 'labels'],\n",
      "        num_rows: 4000\n",
      "    })\n",
      "    validation: Dataset({\n",
      "        features: ['input_ids', 'attention_mask', 'labels'],\n",
      "        num_rows: 500\n",
      "    })\n",
      "    test: Dataset({\n",
      "        features: ['input_ids', 'attention_mask', 'labels'],\n",
      "        num_rows: 500\n",
      "    })\n",
      "})\n"
     ]
    }
   ],
   "source": [
    "indices = list(range(len(tokenized_dataset)))\n",
    "train_val_indices, test_indices = train_test_split(indices, test_size=0.1, random_state=42)\n",
    "train_indices, val_indices = train_test_split(train_val_indices, test_size=0.1111, random_state=42)  # 0.1111*0.9 ≈ 0.1\n",
    "\n",
    "train = tokenized_dataset.select(train_indices)\n",
    "val = tokenized_dataset.select(val_indices)\n",
    "test = tokenized_dataset.select(test_indices)\n",
    "\n",
    "dataset_dict = DatasetDict({\n",
    "    \"train\": train,\n",
    "    \"validation\": val,\n",
    "    \"test\": test\n",
    "})\n",
    "\n",
    "print(dataset_dict)"
   ]
  },
  {
   "cell_type": "markdown",
   "id": "a9a7972a-4398-464a-8c58-db49b94278bb",
   "metadata": {},
   "source": [
    "# Part 2: LoRA-Based Fine-Tuning"
   ]
  },
  {
   "cell_type": "code",
   "execution_count": 8,
   "id": "35feea04-9bfa-4f08-9bdd-2e6ea28a1eee",
   "metadata": {},
   "outputs": [
    {
     "name": "stdout",
     "output_type": "stream",
     "text": [
      "Requirement already satisfied: bitsandbytes in c:\\users\\farjad\\anaconda3\\envs\\jupyter-gpu\\lib\\site-packages (0.45.5)\n",
      "Requirement already satisfied: torch<3,>=2.0 in c:\\users\\farjad\\anaconda3\\envs\\jupyter-gpu\\lib\\site-packages (from bitsandbytes) (2.5.1)\n",
      "Requirement already satisfied: numpy>=1.17 in c:\\users\\farjad\\anaconda3\\envs\\jupyter-gpu\\lib\\site-packages (from bitsandbytes) (2.0.1)\n",
      "Requirement already satisfied: filelock in c:\\users\\farjad\\anaconda3\\envs\\jupyter-gpu\\lib\\site-packages (from torch<3,>=2.0->bitsandbytes) (3.17.0)\n",
      "Requirement already satisfied: typing-extensions>=4.8.0 in c:\\users\\farjad\\anaconda3\\envs\\jupyter-gpu\\lib\\site-packages (from torch<3,>=2.0->bitsandbytes) (4.12.2)\n",
      "Requirement already satisfied: networkx in c:\\users\\farjad\\anaconda3\\envs\\jupyter-gpu\\lib\\site-packages (from torch<3,>=2.0->bitsandbytes) (3.4.2)\n",
      "Requirement already satisfied: jinja2 in c:\\users\\farjad\\anaconda3\\envs\\jupyter-gpu\\lib\\site-packages (from torch<3,>=2.0->bitsandbytes) (3.1.6)\n",
      "Requirement already satisfied: fsspec in c:\\users\\farjad\\anaconda3\\envs\\jupyter-gpu\\lib\\site-packages (from torch<3,>=2.0->bitsandbytes) (2025.3.0)\n",
      "Requirement already satisfied: sympy==1.13.1 in c:\\users\\farjad\\anaconda3\\envs\\jupyter-gpu\\lib\\site-packages (from torch<3,>=2.0->bitsandbytes) (1.13.1)\n",
      "Requirement already satisfied: mpmath<1.4,>=1.1.0 in c:\\users\\farjad\\anaconda3\\envs\\jupyter-gpu\\lib\\site-packages (from sympy==1.13.1->torch<3,>=2.0->bitsandbytes) (1.3.0)\n",
      "Requirement already satisfied: MarkupSafe>=2.0 in c:\\users\\farjad\\anaconda3\\envs\\jupyter-gpu\\lib\\site-packages (from jinja2->torch<3,>=2.0->bitsandbytes) (3.0.2)\n",
      "Note: you may need to restart the kernel to use updated packages.\n"
     ]
    }
   ],
   "source": [
    "pip install bitsandbytes"
   ]
  },
  {
   "cell_type": "code",
   "execution_count": 9,
   "id": "b4d0acb9-3e12-4f12-a74d-9a14b402359e",
   "metadata": {},
   "outputs": [],
   "source": [
    "from transformers import AutoModelForCausalLM, TrainingArguments, Trainer, DataCollatorForLanguageModeling\n",
    "from peft import LoraConfig, get_peft_model, TaskType"
   ]
  },
  {
   "cell_type": "code",
   "execution_count": 10,
   "id": "592e1944-f35c-4583-b788-0237cc952bdc",
   "metadata": {},
   "outputs": [
    {
     "name": "stderr",
     "output_type": "stream",
     "text": [
      "Loading checkpoint shards: 100%|█████████████████████████████████████████████████████████| 2/2 [00:12<00:00,  6.21s/it]\n"
     ]
    }
   ],
   "source": [
    "model = AutoModelForCausalLM.from_pretrained(\n",
    "    local_model_path,\n",
    "    torch_dtype=torch.float16  # or \"auto\"\n",
    ")\n"
   ]
  },
  {
   "cell_type": "code",
   "execution_count": 11,
   "id": "dbb9a764-e959-4671-8bc4-2ba33cd7f838",
   "metadata": {},
   "outputs": [
    {
     "name": "stdout",
     "output_type": "stream",
     "text": [
      "trainable params: 2,293,760 || all params: 3,215,043,584 || trainable%: 0.0713\n"
     ]
    }
   ],
   "source": [
    "lora_config = LoraConfig(\n",
    "    r=8,\n",
    "    lora_alpha=16,\n",
    "    target_modules=[\"q_proj\", \"v_proj\"],\n",
    "    lora_dropout=0.1,\n",
    "    bias=\"none\",\n",
    "    task_type=TaskType.CAUSAL_LM\n",
    ")\n",
    "model = get_peft_model(model, lora_config)\n",
    "model.print_trainable_parameters()"
   ]
  },
  {
   "cell_type": "code",
   "execution_count": 12,
   "id": "d87f8dfb-b70b-4795-b15e-aeb876755f25",
   "metadata": {},
   "outputs": [],
   "source": [
    "data_collator = DataCollatorForLanguageModeling(\n",
    "    tokenizer=tokenizer, mlm=False\n",
    ")\n",
    "\n",
    "# 4. Training arguments\n",
    "training_args = TrainingArguments(\n",
    "    output_dir=\"./lora-llama3-3b-arxiv\",\n",
    "    per_device_train_batch_size=2,  # Try 2, increase if you have spare VRAM\n",
    "    per_device_eval_batch_size=2,\n",
    "    gradient_accumulation_steps=8,\n",
    "    num_train_epochs=4,\n",
    "    eval_strategy=\"epoch\",\n",
    "    save_strategy=\"epoch\",\n",
    "    logging_steps=50,\n",
    "    fp16=True,\n",
    "    learning_rate=2e-4,\n",
    "    report_to=\"none\"\n",
    ")"
   ]
  },
  {
   "cell_type": "code",
   "execution_count": 13,
   "id": "abda5db2-ae11-4c2d-ac5f-32450d020f31",
   "metadata": {},
   "outputs": [
    {
     "name": "stderr",
     "output_type": "stream",
     "text": [
      "No label_names provided for model class `PeftModelForCausalLM`. Since `PeftModel` hides base models input arguments, if label_names is not given, label_names can't be set automatically within `Trainer`. Note that empty label_names list will be used instead.\n"
     ]
    }
   ],
   "source": [
    "trainer = Trainer(\n",
    "    model=model,\n",
    "    args=training_args,\n",
    "    train_dataset=dataset_dict[\"train\"],\n",
    "    eval_dataset=dataset_dict[\"validation\"],\n",
    "    data_collator=data_collator,\n",
    ")"
   ]
  },
  {
   "cell_type": "code",
   "execution_count": 14,
   "id": "4561bf14-cd0c-48eb-b169-dc03af426d45",
   "metadata": {},
   "outputs": [
    {
     "data": {
      "text/html": [
       "\n",
       "    <div>\n",
       "      \n",
       "      <progress value='1000' max='1000' style='width:300px; height:20px; vertical-align: middle;'></progress>\n",
       "      [1000/1000 3:23:01, Epoch 4/4]\n",
       "    </div>\n",
       "    <table border=\"1\" class=\"dataframe\">\n",
       "  <thead>\n",
       " <tr style=\"text-align: left;\">\n",
       "      <th>Epoch</th>\n",
       "      <th>Training Loss</th>\n",
       "      <th>Validation Loss</th>\n",
       "    </tr>\n",
       "  </thead>\n",
       "  <tbody>\n",
       "    <tr>\n",
       "      <td>1</td>\n",
       "      <td>2.238100</td>\n",
       "      <td>2.243297</td>\n",
       "    </tr>\n",
       "    <tr>\n",
       "      <td>2</td>\n",
       "      <td>2.208800</td>\n",
       "      <td>2.224691</td>\n",
       "    </tr>\n",
       "    <tr>\n",
       "      <td>3</td>\n",
       "      <td>2.156300</td>\n",
       "      <td>2.218255</td>\n",
       "    </tr>\n",
       "    <tr>\n",
       "      <td>4</td>\n",
       "      <td>2.154300</td>\n",
       "      <td>2.216240</td>\n",
       "    </tr>\n",
       "  </tbody>\n",
       "</table><p>"
      ],
      "text/plain": [
       "<IPython.core.display.HTML object>"
      ]
     },
     "metadata": {},
     "output_type": "display_data"
    },
    {
     "data": {
      "text/plain": [
       "('./lora-llama3-3b-arxiv/final\\\\tokenizer_config.json',\n",
       " './lora-llama3-3b-arxiv/final\\\\special_tokens_map.json',\n",
       " './lora-llama3-3b-arxiv/final\\\\tokenizer.json')"
      ]
     },
     "execution_count": 14,
     "metadata": {},
     "output_type": "execute_result"
    }
   ],
   "source": [
    "trainer.train()\n",
    "\n",
    "# 7. Save the fine-tuned model and tokenizer\n",
    "model.save_pretrained(\"./lora-llama3-3b-arxiv/final\")\n",
    "tokenizer.save_pretrained(\"./lora-llama3-3b-arxiv/final\")"
   ]
  },
  {
   "cell_type": "code",
   "execution_count": 10,
   "id": "586ac530-2e9f-4363-a8e6-b95ab96da462",
   "metadata": {},
   "outputs": [],
   "source": [
    "import torch\n",
    "import pandas as pd\n",
    "from transformers import AutoModelForCausalLM, AutoTokenizer, BitsAndBytesConfig"
   ]
  },
  {
   "cell_type": "code",
   "execution_count": 11,
   "id": "7d2542e2-1c2f-4023-9848-5ac160cfa5a4",
   "metadata": {},
   "outputs": [],
   "source": [
    "finetuned_model_path = \"./lora-llama3-3b-arxiv/final\"\n",
    "base_model_path = \"./Llama-3.2-3B-Instruct\"\n"
   ]
  },
  {
   "cell_type": "code",
   "execution_count": 12,
   "id": "b912a432-e1d3-4b31-b5da-1602ce6624fe",
   "metadata": {},
   "outputs": [],
   "source": [
    "# 4-bit quantization config\n",
    "bnb_config = BitsAndBytesConfig(\n",
    "    load_in_4bit=True,\n",
    "    bnb_4bit_compute_dtype=\"float16\",\n",
    "    bnb_4bit_use_double_quant=True,\n",
    "    bnb_4bit_quant_type=\"nf4\"\n",
    ")"
   ]
  },
  {
   "cell_type": "code",
   "execution_count": 13,
   "id": "a5879151-c02c-466d-86cc-decba9b58ce4",
   "metadata": {},
   "outputs": [
    {
     "name": "stderr",
     "output_type": "stream",
     "text": [
      "Loading checkpoint shards: 100%|█████████████████████████████████████████████████████████| 2/2 [00:18<00:00,  9.25s/it]\n"
     ]
    }
   ],
   "source": [
    "# Load fine-tuned model and tokenizer in 4-bit on GPU\n",
    "finetuned_tokenizer = AutoTokenizer.from_pretrained(finetuned_model_path, use_fast=True)\n",
    "if finetuned_tokenizer.pad_token is None:\n",
    "    finetuned_tokenizer.pad_token = finetuned_tokenizer.eos_token\n",
    "finetuned_model = AutoModelForCausalLM.from_pretrained(\n",
    "    finetuned_model_path,\n",
    "    quantization_config=bnb_config,\n",
    "    device_map=\"auto\"\n",
    ")"
   ]
  },
  {
   "cell_type": "code",
   "execution_count": 14,
   "id": "068a79df-08d4-4f03-a7e1-443ce24f2d08",
   "metadata": {},
   "outputs": [
    {
     "name": "stderr",
     "output_type": "stream",
     "text": [
      "Loading checkpoint shards: 100%|█████████████████████████████████████████████████████████| 2/2 [00:04<00:00,  2.09s/it]\n"
     ]
    }
   ],
   "source": [
    "base_tokenizer = AutoTokenizer.from_pretrained(base_model_path, use_fast=True)\n",
    "if base_tokenizer.pad_token is None:\n",
    "    base_tokenizer.pad_token = base_tokenizer.eos_token\n",
    "base_model = AutoModelForCausalLM.from_pretrained(\n",
    "    base_model_path,\n",
    "    quantization_config=bnb_config,\n",
    "    device_map=\"auto\"\n",
    ")"
   ]
  },
  {
   "cell_type": "code",
   "execution_count": 15,
   "id": "8617b421-0240-4815-b622-b985940041f8",
   "metadata": {},
   "outputs": [],
   "source": [
    "test_samples = dataset_dict[\"test\"].select(range(10))\n",
    "inputs = subset.select(test_indices)[:10][\"input\"]\n",
    "ground_truths = subset.select(test_indices)[:10][\"target\"]\n",
    "\n",
    "def generate_summaries(inputs, model, tokenizer):\n",
    "    summaries = []\n",
    "    for text in inputs:\n",
    "        inputs_enc = tokenizer(text, return_tensors=\"pt\", truncation=True, max_length=512, padding=\"max_length\")\n",
    "        input_ids = inputs_enc.input_ids.to(device)\n",
    "        attention_mask = inputs_enc.attention_mask.to(device)\n",
    "        with torch.no_grad():\n",
    "            output_ids = model.generate(\n",
    "                input_ids=input_ids,\n",
    "                attention_mask=attention_mask,\n",
    "                max_new_tokens=128,  # or 256 if you want longer summaries\n",
    "                num_beams=4,\n",
    "                do_sample=False\n",
    "            )\n",
    "        summary = tokenizer.decode(output_ids[0], skip_special_tokens=True)\n",
    "        summaries.append(summary)\n",
    "    return summaries"
   ]
  },
  {
   "cell_type": "code",
   "execution_count": 16,
   "id": "dcc5b198-a44e-48b6-90c9-f94040df4f00",
   "metadata": {},
   "outputs": [
    {
     "name": "stderr",
     "output_type": "stream",
     "text": [
      "C:\\Users\\Farjad\\anaconda3\\envs\\jupyter-gpu\\lib\\site-packages\\transformers\\generation\\configuration_utils.py:631: UserWarning: `do_sample` is set to `False`. However, `temperature` is set to `0.6` -- this flag is only used in sample-based generation modes. You should set `do_sample=True` or unset `temperature`.\n",
      "  warnings.warn(\n",
      "C:\\Users\\Farjad\\anaconda3\\envs\\jupyter-gpu\\lib\\site-packages\\transformers\\generation\\configuration_utils.py:636: UserWarning: `do_sample` is set to `False`. However, `top_p` is set to `0.9` -- this flag is only used in sample-based generation modes. You should set `do_sample=True` or unset `top_p`.\n",
      "  warnings.warn(\n",
      "Setting `pad_token_id` to `eos_token_id`:128001 for open-end generation.\n",
      "Setting `pad_token_id` to `eos_token_id`:128001 for open-end generation.\n",
      "Setting `pad_token_id` to `eos_token_id`:128001 for open-end generation.\n",
      "Setting `pad_token_id` to `eos_token_id`:128001 for open-end generation.\n",
      "Setting `pad_token_id` to `eos_token_id`:128001 for open-end generation.\n",
      "Setting `pad_token_id` to `eos_token_id`:128001 for open-end generation.\n",
      "Setting `pad_token_id` to `eos_token_id`:128001 for open-end generation.\n",
      "Setting `pad_token_id` to `eos_token_id`:128001 for open-end generation.\n",
      "Setting `pad_token_id` to `eos_token_id`:128001 for open-end generation.\n",
      "Setting `pad_token_id` to `eos_token_id`:128001 for open-end generation.\n",
      "Setting `pad_token_id` to `eos_token_id`:128001 for open-end generation.\n",
      "Setting `pad_token_id` to `eos_token_id`:128001 for open-end generation.\n",
      "Setting `pad_token_id` to `eos_token_id`:128001 for open-end generation.\n",
      "Setting `pad_token_id` to `eos_token_id`:128001 for open-end generation.\n",
      "Setting `pad_token_id` to `eos_token_id`:128001 for open-end generation.\n",
      "Setting `pad_token_id` to `eos_token_id`:128001 for open-end generation.\n",
      "Setting `pad_token_id` to `eos_token_id`:128001 for open-end generation.\n",
      "Setting `pad_token_id` to `eos_token_id`:128001 for open-end generation.\n",
      "Setting `pad_token_id` to `eos_token_id`:128001 for open-end generation.\n",
      "Setting `pad_token_id` to `eos_token_id`:128001 for open-end generation.\n"
     ]
    }
   ],
   "source": [
    "finetuned_summaries = generate_summaries(inputs, finetuned_model, finetuned_tokenizer)\n",
    "base_summaries = generate_summaries(inputs, base_model, base_tokenizer)"
   ]
  },
  {
   "cell_type": "code",
   "execution_count": 17,
   "id": "d7a53c5f-ce0e-4dc3-9bf6-87ed032bf5e5",
   "metadata": {},
   "outputs": [
    {
     "name": "stdout",
     "output_type": "stream",
     "text": [
      "Saved summaries_comparison.csv\n"
     ]
    }
   ],
   "source": [
    "df = pd.DataFrame({\n",
    "    \"input\": inputs,\n",
    "    \"ground_truth\": ground_truths,\n",
    "    \"finetuned_summary\": finetuned_summaries,\n",
    "    \"base_summary\": base_summaries\n",
    "})\n",
    "df.to_csv(\"summaries_comparison.csv\", index=False)\n",
    "print(\"Saved summaries_comparison.csv\")"
   ]
  },
  {
   "cell_type": "markdown",
   "id": "7291d9d1-1d85-4b78-a7be-3d69f84ac715",
   "metadata": {},
   "source": [
    "# Part 4: Model Evaluation"
   ]
  },
  {
   "cell_type": "code",
   "execution_count": 28,
   "id": "22cc6cd9-d0b1-4062-8c7d-83d794e69dda",
   "metadata": {},
   "outputs": [],
   "source": [
    "import pandas as pd\n",
    "import evaluate\n",
    "from nltk.translate.bleu_score import sentence_bleu, SmoothingFunction\n",
    "from bert_score import score as bert_score\n",
    "import matplotlib.pyplot as plt"
   ]
  },
  {
   "cell_type": "code",
   "execution_count": 29,
   "id": "2d4cff05-93e5-4be9-bdce-fe8d40c91f52",
   "metadata": {},
   "outputs": [
    {
     "name": "stdout",
     "output_type": "stream",
     "text": [
      "                                               input  \\\n",
      "0  the family of iron oxyarsenide @xmath5feaso@xm...   \n",
      "1  we present here l and m band results on v4332 ...   \n",
      "2  understanding the processes involved in the su...   \n",
      "3  non - relativistic quantum fluids ( fermions o...   \n",
      "4  the recent measurements of the vector charmoni...   \n",
      "5  at a continuous transition , the expression @x...   \n",
      "6  experimental studies of neutrino oscillations ...   \n",
      "7  in this paper , we present a formal analysis o...   \n",
      "8  a major goal of neutron star ( ns ) research h...   \n",
      "9  studies of lateral interactions between adsorb...   \n",
      "\n",
      "                                        ground_truth  \\\n",
      "0  the iron arsenide rbfe@xmath0as@xmath0 with th...   \n",
      "1  l and m band observations of the nova - like v...   \n",
      "2  we investigate the structure of hybrid stars b...   \n",
      "3  we report the thermodynamic properties of bose...   \n",
      "4  we show that the newly measured branching rati...   \n",
      "5  a simple systematic rule , inspired by high - ...   \n",
      "6  we study the generation of small neutrino mass...   \n",
      "7  an analysis of electromagnetic corrections to ...   \n",
      "8  recently @xcite reported the first clear detec...   \n",
      "9  we present monte carlo simulations using an eq...   \n",
      "\n",
      "                                   finetuned_summary  \\\n",
      "0  the family of iron oxyarsenide @xmath5feaso@xm...   \n",
      "1  we present here l and m band results on v4332 ...   \n",
      "2  understanding the processes involved in the su...   \n",
      "3  non - relativistic quantum fluids ( fermions o...   \n",
      "4  the recent measurements of the vector charmoni...   \n",
      "5  at a continuous transition, the expression @xm...   \n",
      "6  experimental studies of neutrino oscillations ...   \n",
      "7  in this paper, we present a formal analysis of...   \n",
      "8  a major goal of neutron star ( ns ) research h...   \n",
      "9  studies of lateral interactions between adsorb...   \n",
      "\n",
      "                                        base_summary  \n",
      "0  the family of iron oxyarsenide @xmath5feaso@xm...  \n",
      "1  we present here l and m band results on v4332 ...  \n",
      "2  understanding the processes involved in the su...  \n",
      "3  non - relativistic quantum fluids ( fermions o...  \n",
      "4  the recent measurements of the vector charmoni...  \n",
      "5  at a continuous transition, the expression @xm...  \n",
      "6  experimental studies of neutrino oscillations ...  \n",
      "7  in this paper, we present a formal analysis of...  \n",
      "8  a major goal of neutron star ( ns ) research h...  \n",
      "9  studies of lateral interactions between adsorb...  \n"
     ]
    }
   ],
   "source": [
    "df = pd.read_csv(\"summaries_comparison.csv\")\n",
    "print(df)"
   ]
  },
  {
   "cell_type": "code",
   "execution_count": 31,
   "id": "f5175664-3842-41aa-839b-2fc54a5882c8",
   "metadata": {},
   "outputs": [],
   "source": [
    "# ROUGE\n",
    "rouge = evaluate.load(\"rouge\")\n",
    "rouge_finetuned = rouge.compute(predictions=df[\"finetuned_summary\"], references=df[\"ground_truth\"])\n",
    "rouge_base = rouge.compute(predictions=df[\"base_summary\"], references=df[\"ground_truth\"])"
   ]
  },
  {
   "cell_type": "code",
   "execution_count": 32,
   "id": "8ae6b2ad-8160-4848-bf46-0f3a42c7ecb3",
   "metadata": {},
   "outputs": [],
   "source": [
    "# BLEU\n",
    "smooth = SmoothingFunction().method1\n",
    "bleu_finetuned = [sentence_bleu([ref.split()], pred.split(), smoothing_function=smooth) for ref, pred in zip(df[\"ground_truth\"], df[\"finetuned_summary\"])]\n",
    "bleu_base = [sentence_bleu([ref.split()], pred.split(), smoothing_function=smooth) for ref, pred in zip(df[\"ground_truth\"], df[\"base_summary\"])]"
   ]
  },
  {
   "cell_type": "code",
   "execution_count": 33,
   "id": "760c6b42-8bbc-4cbe-963e-5a96404df5aa",
   "metadata": {},
   "outputs": [
    {
     "name": "stderr",
     "output_type": "stream",
     "text": [
      "Xet Storage is enabled for this repo, but the 'hf_xet' package is not installed. Falling back to regular HTTP download. For better performance, install the package with: `pip install huggingface_hub[hf_xet]` or `pip install hf_xet`\n",
      "WARNING:huggingface_hub.file_download:Xet Storage is enabled for this repo, but the 'hf_xet' package is not installed. Falling back to regular HTTP download. For better performance, install the package with: `pip install huggingface_hub[hf_xet]` or `pip install hf_xet`\n",
      "Some weights of RobertaModel were not initialized from the model checkpoint at roberta-large and are newly initialized: ['pooler.dense.bias', 'pooler.dense.weight']\n",
      "You should probably TRAIN this model on a down-stream task to be able to use it for predictions and inference.\n",
      "Some weights of RobertaModel were not initialized from the model checkpoint at roberta-large and are newly initialized: ['pooler.dense.bias', 'pooler.dense.weight']\n",
      "You should probably TRAIN this model on a down-stream task to be able to use it for predictions and inference.\n"
     ]
    }
   ],
   "source": [
    "# BERTScore\n",
    "P_finetuned, R_finetuned, F1_finetuned = bert_score(df[\"finetuned_summary\"].tolist(), df[\"ground_truth\"].tolist(), lang=\"en\")\n",
    "P_base, R_base, F1_base = bert_score(df[\"base_summary\"].tolist(), df[\"ground_truth\"].tolist(), lang=\"en\")"
   ]
  },
  {
   "cell_type": "code",
   "execution_count": 34,
   "id": "5a0b770d-2710-421d-867c-01f5a1fa98d2",
   "metadata": {},
   "outputs": [],
   "source": [
    "# Aggregate results\n",
    "results = {\n",
    "    \"ROUGE-1\": [rouge_finetuned[\"rouge1\"], rouge_base[\"rouge1\"]],\n",
    "    \"ROUGE-L\": [rouge_finetuned[\"rougeL\"], rouge_base[\"rougeL\"]],\n",
    "    \"BLEU\": [sum(bleu_finetuned)/len(bleu_finetuned), sum(bleu_base)/len(bleu_base)],\n",
    "    \"BERTScore\": [F1_finetuned.mean().item(), F1_base.mean().item()]\n",
    "}\n",
    "labels = [\"Fine-tuned\", \"Base\"]"
   ]
  },
  {
   "cell_type": "code",
   "execution_count": 35,
   "id": "36a48af1-5514-4aea-812e-7d3426d27545",
   "metadata": {},
   "outputs": [
    {
     "data": {
      "image/png": "[encoded data removed]",
      "text/plain": [
       "<Figure size 1000x600 with 1 Axes>"
      ]
     },
     "metadata": {},
     "output_type": "display_data"
    }
   ],
   "source": [
    "df_results = pd.DataFrame(results, index=labels)\n",
    "df_results.plot(kind=\"bar\", figsize=(10,6))\n",
    "plt.title(\"Evaluation Metrics: Fine-tuned vs Base Model\")\n",
    "plt.ylabel(\"Score\")\n",
    "plt.xticks(rotation=0)\n",
    "plt.tight_layout()\n",
    "plt.savefig(\"evaluation_bar_chart.png\")\n",
    "plt.show()"
   ]
  },
  {
   "cell_type": "code",
   "execution_count": 36,
   "id": "21afbdfc-fa21-415b-8832-8ecb16d332aa",
   "metadata": {},
   "outputs": [
    {
     "name": "stdout",
     "output_type": "stream",
     "text": [
      "             ROUGE-1   ROUGE-L      BLEU  BERTScore\n",
      "Fine-tuned  0.273244  0.140273  0.025094   0.830307\n",
      "Base        0.274378  0.141729  0.026383   0.830307\n"
     ]
    }
   ],
   "source": [
    "print(df_results)"
   ]
  },
  {
   "cell_type": "markdown",
   "id": "9c7dcd81-ea59-40b5-a236-ab7efd0086ba",
   "metadata": {},
   "source": [
    "# Part 4B: LLM-as-a-Judge Evaluation (Together.ai API)"
   ]
  },
  {
   "cell_type": "code",
   "execution_count": 1,
   "id": "ee841180-d9b2-46de-896d-74734bf0fbba",
   "metadata": {},
   "outputs": [],
   "source": [
    "import openai\n",
    "import pandas as pd\n",
    "import random\n",
    "import time"
   ]
  },
  {
   "cell_type": "code",
   "execution_count": 2,
   "id": "6483dfc4-d013-4b89-8b0c-8449913d7cf2",
   "metadata": {},
   "outputs": [],
   "source": [
    "client = openai.OpenAI(\n",
    "    api_key=\"381c3a2dddc050a80df691423e856e9a2334fda9cc28c2a790d04144bf02ddee\",  \n",
    "    base_url=\"https://api.together.xyz/v1\"\n",
    ")"
   ]
  },
  {
   "cell_type": "code",
   "execution_count": 3,
   "id": "7345dbba-493a-4099-910f-a672f1cd8198",
   "metadata": {},
   "outputs": [],
   "source": [
    "judge_model = \"deepseek-ai/DeepSeek-V3\""
   ]
  },
  {
   "cell_type": "code",
   "execution_count": 4,
   "id": "b317b976-da03-4e7c-a90b-6bf67703ae8d",
   "metadata": {},
   "outputs": [],
   "source": [
    "df = pd.read_csv(\"summaries_comparison.csv\")\n",
    "\n",
    "# Randomly select 10 samples\n",
    "samples = df.sample(10, random_state=42)"
   ]
  },
  {
   "cell_type": "code",
   "execution_count": 5,
   "id": "bd875c57-3ba9-4827-82c6-b9316ca9b269",
   "metadata": {},
   "outputs": [],
   "source": [
    "def build_prompt(input_text, summary, max_chars=4000):\n",
    "    # Truncate input to avoid context window errors\n",
    "    input_text = input_text[:max_chars]\n",
    "    return f\"\"\"\n",
    "Given the following input and the summary produced, evaluate the summary on:\n",
    "1. Fluency (Is the summary readable and grammatically correct?)\n",
    "2. Factuality (Are the statements in the summary correct, and do they reflect the source?)\n",
    "3. Coverage (Does the summary include the main problem, method, and key findings?)\n",
    "\n",
    "Use a score from 1 (poor) to 5 (excellent) for each. Provide a short justification for each score.\n",
    "\n",
    "Input: {input_text}\n",
    "Generated Summary: {summary}\n",
    "\n",
    "Respond in this format:\n",
    "Fluency: [score] - [justification]\n",
    "Factuality: [score] - [justification]\n",
    "Coverage: [score] - [justification]\n",
    "\"\"\""
   ]
  },
  {
   "cell_type": "code",
   "execution_count": 6,
   "id": "f205009c-72e4-4958-917b-218949f5d559",
   "metadata": {},
   "outputs": [
    {
     "name": "stdout",
     "output_type": "stream",
     "text": [
      "Evaluating sample 9/10...\n",
      "Fluency: 3 - The summary is mostly readable and grammatically correct, but it includes repetitive and nonsensical lines (e.g., the repeated \"@xmathX kev feature was detected by _ xmm - newton_@xcite\"), which disrupt the flow and clarity.  \n",
      "\n",
      "Factuality: 4 - The summary accurately reflects the source material for the most part, but the repetitive and incorrect additions (e.g., the \"@xmathX kev feature\" lines) introduce factual inaccuracies not present in the original text.  \n",
      "\n",
      "Coverage: 2 - The summary captures some key points (e.g., the challenge of determining neutron star properties, the role of atmospheres, and the case of 1e1207.4-5209), but it misses critical details (e.g., the debate over non-hydrogen atmospheres, the significance of the spectral features, and the proposed interpretations). The repetitive and irrelevant lines further detract from coverage.\n",
      "Evaluating sample 2/10...\n",
      "Fluency: 5 - The summary is highly readable and grammatically correct, with clear and coherent sentences that flow well.  \n",
      "\n",
      "Factuality: 4 - The summary accurately reflects the source, but there is a minor factual error regarding the telescope used (the source mentions the 3.8 m UK Infrared Telescope, not a 2.2-2.8m telescope in India). Otherwise, the key details are correct.  \n",
      "\n",
      "Coverage: 4 - The summary covers the main problem (the nature of V4332 Sgr's eruption), methods (infrared observations), and key findings (unexpected water-ice detection, new eruptive object class). However, it omits some finer details like the black-body temperature and dust shell formation specifics.\n",
      "Evaluating sample 6/10...\n",
      "Fluency: 3 - The summary is mostly readable and grammatically correct, but it contains some awkward phrasing and incomplete sentences (e.g., \"this criticism is based on the fact that the @xmath17 scaling form does not take into account the temperature dependence of the normalization constant, @xmath33, for each observable.\"). The use of placeholders like @xmath33 also disrupts readability.\n",
      "\n",
      "Factuality: 4 - The summary accurately reflects the source material, including the discussion of @xmath17 and @xmath24 scaling, critical exponents, and normalization factors. However, it introduces a minor inaccuracy by stating \"@xmath17 scaling has been widely used in the analysis of numerical data\" without explicitly linking this to the source's context.\n",
      "\n",
      "Coverage: 3 - The summary covers the main problem (scaling conventions) and methods (@xmath17 and @xmath24 scaling), but it misses key findings, such as the proposed extended scaling scheme and its validation using ferromagnets. The summary also ends abruptly, omitting the conclusion or broader implications.\n",
      "Evaluating sample 1/10...\n",
      "Fluency: 3 - The summary is mostly readable and grammatically correct, but it contains some awkward phrasing and incomplete sentences (e.g., \"as@xmath0 polycrystalline sample, measured in a magnetic field of 1 mt. superconductivity sets in at @xmath11 k.]\"). The use of placeholders like \"@xmath0\" and \"@xmath11\" also disrupts readability.  \n",
      "\n",
      "Factuality: 4 - The summary accurately reflects the source material, including details about superconductivity in iron oxyarsenides, the synthesis of rbfe@xmath0as@xmath0, and its properties. However, it includes an unsupported claim about the crystal structure being confirmed by single-crystal X-ray diffraction (not mentioned in the input), which slightly detracts from factuality.  \n",
      "\n",
      "Coverage: 4 - The summary covers the main problem (superconductivity in rbfe@xmath0as@xmath0), the method (two-step synthesis), and key findings (onset of superconductivity at 11 K, magnetic properties). However, it misses some finer details like the upper critical field estimation and the paramagnetic response in the normal state, which are important in the input.\n",
      "Evaluating sample 8/10...\n",
      "Fluency: 1 - The summary is not readable or grammatically correct. It includes repeated and nonsensical text (e.g., \"_ _ _ _ _ _ _ _ _ _ _ _ _ _ _ _ _ _ _ _ _ _ _ _ _ _ _ _ _ _ _ _ _ _ _ _ _ _ _ _ _ _ _ _ _ _ _ _ _ _ _ _ _ _ _ _ _ _ _ _ _ _ _ _ _ _ _ _ _ _ _ _ _ _ _ _ _ _ _ _ _ _ _ _ _ _ _ _ _ _ _ _ _ _ _ _ _ _ _ _ _ _ _ _ _ _ _ _ _ _ _ _ _ _ _ _ _ _ _ _ _ _ _ _ _ _ _ _ _\"), which disrupts coherence and understanding.  \n",
      "\n",
      "Factuality: 3 - The summary correctly reproduces some factual statements from the source (e.g., the analysis of electromagnetic corrections, the role of chiral lagrangians, and the challenges of the methodology). However, the inclusion of nonsensical text and the lack of proper structure reduce its reliability.  \n",
      "\n",
      "Coverage: 2 - The summary partially covers the main problem (electromagnetic corrections to kaon decays) and mentions the method (ch\n",
      "Evaluating sample 3/10...\n",
      "Fluency: 3 - The summary is mostly readable and grammatically correct, but it includes some incomplete sentences and abrupt transitions (e.g., \"the rmf approach is based on the mean - field approximation, where the nucleon - nucleon and nucleon - hyperon interactions are taken into account, but the nucleon - hyperon and hyperon - hyperon\" is cut off).  \n",
      "\n",
      "Factuality: 4 - The summary accurately reflects the source, including key points about neutron stars, hybrid stars, and the models used (e.g., NLW and NJL). However, it introduces a new claim (\"it is our aim to show...\") that is not explicitly stated in the input, which slightly deviates from strict factuality.  \n",
      "\n",
      "Coverage: 4 - The summary covers the main problem (understanding neutron/hybrid stars), methods (EOS, TOV equations, and specific models), and key findings (uncertainties in composition, mixed phase debate). However, it omits some details about observational constraints and the critique of the MIT bag model, which are important in the original text.\n",
      "Evaluating sample 10/10...\n",
      "Fluency: 4 - The summary is highly readable and grammatically correct, with only minor issues like the abrupt ending (\"the electrostatic interactions between the adsorbed halide atoms and the\"). The flow and coherence are strong, making it easy to follow.  \n",
      "\n",
      "Factuality: 5 - The summary accurately reflects the source text, capturing key details about lateral interactions, the focus on chlorine adsorption, the limitations of the lattice-gas model, and the proposed self-consistent approach. No factual inaccuracies are present.  \n",
      "\n",
      "Coverage: 4 - The summary covers the main problem (understanding lateral interactions for Cl/Ag(100)), the method (lattice-gas model with variable parameters), and key findings (insufficiency of constant parameters for Cl/Ag(100)). However, it omits minor details like the Monte Carlo methods and experimental procedure, and the ending is truncated.\n",
      "Evaluating sample 5/10...\n",
      "Fluency: 3 - The summary is mostly readable and grammatically correct, but it contains some awkward phrasing and repetition (e.g., \"taken into account\" is repeated multiple times). The use of placeholders like @xmath0 and @xcite also disrupts readability, though this is likely due to the source format.  \n",
      "\n",
      "Factuality: 2 - The summary includes some correct information from the source, but it also introduces inaccuracies and inconsistencies. For example, it misrepresents the pseudoscalar states (e.g., @xmath30 and @xmath31 are incorrectly listed as pseudoscalars, and the summary repeats the same structure for unrelated decays). The summary also omits key details from the source, such as the role of the VMD model and the specific findings about @xmath8-@xmath9 mixing.  \n",
      "\n",
      "Coverage: 2 - The summary partially covers the main problem (differences in decay patterns between @xmath0 and @xmath1) and mentions some methods (e.g., QCD sum rules, mixing effects), but it fails to coherently summarize the key findings or the proposed solution (the VMD model). It also includes irrelevant repetitions (e.g., the redundant listing\n",
      "Evaluating sample 4/10...\n",
      "Fluency: 3 - The summary is mostly readable and grammatically correct, but it contains some awkward phrasing (e.g., \"this paper unfolds as follows\" followed by redundant repetition of the paper's structure). The repetition of sections and lack of smooth transitions reduce fluency.  \n",
      "\n",
      "Factuality: 4 - The summary accurately reflects the source, including key details about quantum fluids, experimental examples, and the paper's focus on structure effects. However, minor inaccuracies (e.g., redundant section descriptions) slightly detract from factuality.  \n",
      "\n",
      "Coverage: 4 - The summary covers the main problem (effects of periodic structures on quantum gases), method (modeling with delta potentials and calculating thermodynamic properties), and key findings (comparison with literature). However, it misses some technical specifics (e.g., the transcendental equation for energy) and includes redundant organizational details.\n",
      "Evaluating sample 7/10...\n",
      "Fluency: 3 - The summary is mostly readable and grammatically correct, but it contains repetitive phrases (e.g., \"in the type - ii seesaw, the heavy right - handed neutrinos are introduced...\") and lacks smooth transitions between ideas.  \n",
      "\n",
      "Factuality: 4 - The summary accurately reflects the source material, but it misrepresents the type-II seesaw mechanism by incorrectly stating that heavy right-handed neutrinos do not contribute to light-neutrino masses (they are not part of type-II seesaw, which instead introduces a Higgs triplet).  \n",
      "\n",
      "Coverage: 3 - The summary covers the main problem (neutrino mass generation) and some methods (seesaw mechanisms), but it misses key findings (e.g., the role of extra dimensions, KK states, and non-unitary mixing in the proposed model) and repeats information without advancing the discussion.\n",
      "Saved results to llm_judge_results_deepseek.csv\n"
     ]
    }
   ],
   "source": [
    "results = []\n",
    "for idx, row in samples.iterrows():\n",
    "    prompt = build_prompt(row[\"input\"], row[\"finetuned_summary\"])\n",
    "    print(f\"Evaluating sample {idx+1}/10...\")\n",
    "    try:\n",
    "        response = client.chat.completions.create(\n",
    "            model=judge_model,\n",
    "            messages=[{\"role\": \"user\", \"content\": prompt}],\n",
    "            max_tokens=256,\n",
    "            temperature=0.0,\n",
    "        )\n",
    "        judgement = response.choices[0].message.content\n",
    "        print(judgement)\n",
    "        results.append({\n",
    "            \"input\": row[\"input\"],\n",
    "            \"summary\": row[\"finetuned_summary\"],\n",
    "            \"llm_judgement\": judgement\n",
    "        })\n",
    "        time.sleep(1.1)  # Increase sleep to avoid rate limits\n",
    "    except Exception as e:\n",
    "        print(\"Error:\", e)\n",
    "        results.append({\n",
    "            \"input\": row[\"input\"],\n",
    "            \"summary\": row[\"finetuned_summary\"],\n",
    "            \"llm_judgement\": str(e)\n",
    "        })\n",
    "\n",
    "pd.DataFrame(results).to_csv(\"llm_judge_results_deepseek.csv\", index=False)\n",
    "print(\"Saved results to llm_judge_results_deepseek.csv\")"
   ]
  },
  {
   "cell_type": "markdown",
   "id": "d77a8fed-a0c2-4070-9fd3-940970b760e3",
   "metadata": {},
   "source": [
    "# Part 5: App"
   ]
  },
  {
   "cell_type": "code",
   "execution_count": 16,
   "id": "08c8cf7f-eeae-45ca-b73d-b0835014cc9a",
   "metadata": {},
   "outputs": [],
   "source": [
    "import gradio as gr\n",
    "import torch\n",
    "from transformers import AutoModelForCausalLM, AutoTokenizer, BitsAndBytesConfig\n",
    "import PyPDF2\n",
    "import openai\n",
    "import matplotlib.pyplot as plt\n",
    "import numpy as np\n",
    "import re"
   ]
  },
  {
   "cell_type": "code",
   "execution_count": 17,
   "id": "df0320d1-d8d4-4162-b3d9-926077569fcc",
   "metadata": {},
   "outputs": [],
   "source": [
    "# --- Model Setup ---\n",
    "finetuned_model_path = \"./lora-llama3-3b-arxiv/final\"\n",
    "base_model_path = \"./Llama-3.2-3B-Instruct\"\n",
    "\n",
    "bnb_config = BitsAndBytesConfig(\n",
    "    load_in_4bit=True,\n",
    "    bnb_4bit_compute_dtype=\"float16\",\n",
    "    bnb_4bit_use_double_quant=True,\n",
    "    bnb_4bit_quant_type=\"nf4\"\n",
    ")\n",
    "\n",
    "device = \"cuda\" if torch.cuda.is_available() else \"cpu\""
   ]
  },
  {
   "cell_type": "code",
   "execution_count": 19,
   "id": "14f428d8-ed12-497f-b5dc-3992622112bc",
   "metadata": {},
   "outputs": [],
   "source": [
    "# --- Summarization Function ---\n",
    "def summarize(text, model, tokenizer):\n",
    "    inputs = tokenizer(text, return_tensors=\"pt\", truncation=True, max_length=512, padding=\"max_length\")\n",
    "    input_ids = inputs.input_ids.to(device)\n",
    "    attention_mask = inputs.attention_mask.to(device)\n",
    "    with torch.no_grad():\n",
    "        output_ids = model.generate(\n",
    "            input_ids=input_ids,\n",
    "            attention_mask=attention_mask,\n",
    "            max_new_tokens=128,\n",
    "            num_beams=4,\n",
    "            do_sample=False\n",
    "        )\n",
    "    return tokenizer.decode(output_ids[0], skip_special_tokens=True)"
   ]
  },
  {
   "cell_type": "code",
   "execution_count": 20,
   "id": "cbc7195a-59cc-4582-90cf-07c04282544f",
   "metadata": {},
   "outputs": [],
   "source": [
    "# --- LLM-as-a-Judge Function ---\n",
    "def llm_judge(input_text, summary, api_key, judge_model=\"deepseek-ai/DeepSeek-V3\"):\n",
    "    client = openai.OpenAI(\n",
    "        api_key=api_key,\n",
    "        base_url=\"https://api.together.xyz/v1\"\n",
    "    )\n",
    "    prompt = f\"\"\"\n",
    "Given the following input and the summary produced, evaluate the summary on:\n",
    "1. Fluency (Is the summary readable and grammatically correct?)\n",
    "2. Factuality (Are the statements in the summary correct, and do they reflect the source?)\n",
    "3. Coverage (Does the summary include the main problem, method, and key findings?)\n",
    "\n",
    "Use a score from 1 (poor) to 5 (excellent) for each. Provide a short justification for each score.\n",
    "\n",
    "Input: {input_text[:4000]}\n",
    "Generated Summary: {summary}\n",
    "\n",
    "Respond in this format:\n",
    "Fluency: [score] - [justification]\n",
    "Factuality: [score] - [justification]\n",
    "Coverage: [score] - [justification]\n",
    "\"\"\"\n",
    "    try:\n",
    "        response = client.chat.completions.create(\n",
    "            model=judge_model,\n",
    "            messages=[{\"role\": \"user\", \"content\": prompt}],\n",
    "            max_tokens=256,\n",
    "            temperature=0.0,\n",
    "        )\n",
    "        return response.choices[0].message.content\n",
    "    except Exception as e:\n",
    "        return f\"Error: {e}\""
   ]
  },
  {
   "cell_type": "code",
   "execution_count": 21,
   "id": "b6ebb884-b951-4dc3-9fc8-f255c6fb62a1",
   "metadata": {},
   "outputs": [],
   "source": [
    "# --- PDF/Text Extractor ---\n",
    "def extract_text(file):\n",
    "    if file.name.endswith(\".pdf\"):\n",
    "        pdf = PyPDF2.PdfReader(file)\n",
    "        text = \"\\n\".join(page.extract_text() for page in pdf.pages if page.extract_text())\n",
    "    else:\n",
    "        text = file.read().decode(\"utf-8\")\n",
    "    return text\n",
    "\n",
    "# --- File Processing ---\n",
    "def process_file(file, api_key):\n",
    "    text = extract_text(file)\n",
    "    finetuned_summary = summarize(text, finetuned_model, finetuned_tokenizer)\n",
    "    base_summary = summarize(text, base_model, base_tokenizer)\n",
    "    return text[:1000], finetuned_summary, base_summary, api_key\n",
    "\n",
    "# --- Metric Plot ---\n",
    "def generate_metric_plot():\n",
    "    metrics = [\"ROUGE-1\", \"ROUGE-L\", \"BLEU\", \"BERTScore\"]\n",
    "    fine_tuned_scores = [0.273244, 0.140273, 0.025094, 0.830307]\n",
    "    base_scores = [0.274378, 0.141729, 0.026383, 0.830307]\n",
    "\n",
    "    x = np.arange(len(metrics))\n",
    "    width = 0.35\n",
    "\n",
    "    fig, ax = plt.subplots(figsize=(8, 4))\n",
    "    ax.bar(x - width/2, fine_tuned_scores, width, label=\"Fine-Tuned\")\n",
    "    ax.bar(x + width/2, base_scores, width, label=\"Base\")\n",
    "    ax.set_ylabel(\"Score\")\n",
    "    ax.set_title(\"Evaluation Metrics Comparison\")\n",
    "    ax.set_xticks(x)\n",
    "    ax.set_xticklabels(metrics)\n",
    "    ax.set_ylim(0, 1)\n",
    "    ax.legend()\n",
    "    fig.tight_layout()\n",
    "    return fig"
   ]
  },
  {
   "cell_type": "code",
   "execution_count": 22,
   "id": "3d5b8dc9-7bbe-4583-921c-368dfdf915bd",
   "metadata": {},
   "outputs": [],
   "source": [
    "# --- LLM-as-a-Judge Plot ---\n",
    "def parse_judge_scores(judge_text):\n",
    "    pattern = r\"(Fluency|Factuality|Coverage):\\s*(\\d)\"\n",
    "    scores = dict(re.findall(pattern, judge_text))\n",
    "    return [int(scores.get(key, 0)) for key in [\"Fluency\", \"Factuality\", \"Coverage\"]]\n",
    "\n",
    "def plot_judge_scores(finetuned_text, base_text):\n",
    "    categories = [\"Fluency\", \"Factuality\", \"Coverage\"]\n",
    "    fine_scores = parse_judge_scores(finetuned_text)\n",
    "    base_scores = parse_judge_scores(base_text)\n",
    "\n",
    "    x = np.arange(len(categories))\n",
    "    width = 0.35\n",
    "\n",
    "    fig, ax = plt.subplots(figsize=(6, 4))\n",
    "    ax.bar(x - width/2, fine_scores, width, label=\"Fine-Tuned\")\n",
    "    ax.bar(x + width/2, base_scores, width, label=\"Base\")\n",
    "    ax.set_ylabel(\"Score (1–5)\")\n",
    "    ax.set_title(\"LLM-as-a-Judge Evaluation\")\n",
    "    ax.set_xticks(x)\n",
    "    ax.set_xticklabels(categories)\n",
    "    ax.set_ylim(0, 5)\n",
    "    ax.legend()\n",
    "    fig.tight_layout()\n",
    "    return fig"
   ]
  },
  {
   "cell_type": "code",
   "execution_count": 23,
   "id": "a00a758d-d777-4c53-ab51-56be3e2fce10",
   "metadata": {},
   "outputs": [
    {
     "name": "stdout",
     "output_type": "stream",
     "text": [
      "* Running on local URL:  http://127.0.0.1:7861\n",
      "* To create a public link, set `share=True` in `launch()`.\n"
     ]
    },
    {
     "data": {
      "text/html": [
       "<div><iframe src=\"http://127.0.0.1:7861/\" width=\"100%\" height=\"500\" allow=\"autoplay; camera; microphone; clipboard-read; clipboard-write;\" frameborder=\"0\" allowfullscreen></iframe></div>"
      ],
      "text/plain": [
       "<IPython.core.display.HTML object>"
      ]
     },
     "metadata": {},
     "output_type": "display_data"
    },
    {
     "data": {
      "text/plain": []
     },
     "execution_count": 23,
     "metadata": {},
     "output_type": "execute_result"
    },
    {
     "name": "stderr",
     "output_type": "stream",
     "text": [
      "Setting `pad_token_id` to `eos_token_id`:128001 for open-end generation.\n",
      "Setting `pad_token_id` to `eos_token_id`:128001 for open-end generation.\n"
     ]
    }
   ],
   "source": [
    "# --- Gradio Interface ---\n",
    "with gr.Blocks() as demo:\n",
    "    gr.Markdown(\"# Research Paper Summarizer & LLM-as-a-Judge\")\n",
    "\n",
    "    file = gr.File(label=\"Upload PDF or TXT\")\n",
    "    api_key = gr.Textbox(label=\"Together.ai API Key\", type=\"password\")\n",
    "\n",
    "    summarize_btn = gr.Button(\"Summarize\")\n",
    "\n",
    "    input_text = gr.Textbox(label=\"Original Text (first 1000 chars)\", interactive=False)\n",
    "    finetuned_summary = gr.Textbox(label=\"Fine-tuned Model Summary\", interactive=False)\n",
    "    base_summary = gr.Textbox(label=\"Base Model Summary\", interactive=False)\n",
    "\n",
    "    judge_finetuned_btn = gr.Button(\"Judge Fine-tuned Summary\")\n",
    "    judge_base_btn = gr.Button(\"Judge Base Summary\")\n",
    "    judge_finetuned_output = gr.Textbox(label=\"LLM-as-a-Judge (Fine-tuned)\", interactive=False)\n",
    "    judge_base_output = gr.Textbox(label=\"LLM-as-a-Judge (Base)\", interactive=False)\n",
    "\n",
    "    plot_metrics_btn = gr.Button(\"Show Evaluation Metrics Plot\")\n",
    "    metric_plot = gr.Plot(label=\"Evaluation Metric Comparison\")\n",
    "\n",
    "    plot_judge_btn = gr.Button(\"Show LLM-as-a-Judge Plot\")\n",
    "    judge_plot = gr.Plot(label=\"LLM-as-a-Judge Score Comparison\")\n",
    "\n",
    "    summarize_btn.click(\n",
    "        process_file,\n",
    "        inputs=[file, api_key],\n",
    "        outputs=[input_text, finetuned_summary, base_summary, api_key]\n",
    "    )\n",
    "\n",
    "    judge_finetuned_btn.click(\n",
    "        llm_judge,\n",
    "        inputs=[input_text, finetuned_summary, api_key],\n",
    "        outputs=judge_finetuned_output\n",
    "    )\n",
    "\n",
    "    judge_base_btn.click(\n",
    "        llm_judge,\n",
    "        inputs=[input_text, base_summary, api_key],\n",
    "        outputs=judge_base_output\n",
    "    )\n",
    "\n",
    "    plot_metrics_btn.click(\n",
    "        generate_metric_plot,\n",
    "        inputs=[],\n",
    "        outputs=metric_plot\n",
    "    )\n",
    "\n",
    "    plot_judge_btn.click(\n",
    "        plot_judge_scores,\n",
    "        inputs=[judge_finetuned_output, judge_base_output],\n",
    "        outputs=judge_plot\n",
    "    )\n",
    "\n",
    "demo.launch()"
   ]
  },
  {
   "cell_type": "code",
   "execution_count": null,
   "id": "b61c2f5c-d02a-4151-8a0e-4b78ff90eab7",
   "metadata": {},
   "outputs": [],
   "source": []
  }
 ],
 "metadata": {
  "kernelspec": {
   "display_name": "Python (jupyter-gpu)",
   "language": "python",
   "name": "jupyter-gpu"
  },
  "language_info": {
   "codemirror_mode": {
    "name": "ipython",
    "version": 3
   },
   "file_extension": ".py",
   "mimetype": "text/x-python",
   "name": "python",
   "nbconvert_exporter": "python",
   "pygments_lexer": "ipython3",
   "version": "3.10.16"
  }
 },
 "nbformat": 4,
 "nbformat_minor": 5
}
