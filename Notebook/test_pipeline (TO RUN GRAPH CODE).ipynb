{
 "cells": [
  {
   "cell_type": "markdown",
   "id": "d9b5a217",
   "metadata": {},
   "source": [
    "# 🧪 Test Pipeline for Autonomous Research Assistant"
   ]
  },
  {
   "cell_type": "code",
   "execution_count": null,
   "id": "5c20e6ab",
   "metadata": {},
   "outputs": [],
   "source": [
    "import os\n",
    "from dotenv import load_dotenv\n",
    "\n",
    "# Load environment variables from .env\n",
    "load_dotenv()\n",
    "\n",
    "# Confirm the key is loaded\n",
    "print(\"TOGETHER_API_KEY found:\", os.getenv(\"TOGETHER_API_KEY\") is not None)\n"
   ]
  },
  {
   "cell_type": "code",
   "execution_count": null,
   "id": "cf353b10",
   "metadata": {},
   "outputs": [],
   "source": [
    "# Import your pipeline logic from graph.py\n",
    "from graph import run_graph, export_to_pdf, visualize_output\n"
   ]
  },
  {
   "cell_type": "code",
   "execution_count": null,
   "id": "764e2c8d",
   "metadata": {},
   "outputs": [],
   "source": [
    "# Define your test keywords\n",
    "user_keywords = \"graph neural networks\"\n",
    "\n",
    "# Run the full pipeline\n",
    "result = run_graph(user_keywords)\n"
   ]
  },
  {
   "cell_type": "code",
   "execution_count": null,
   "id": "ea4b50c7",
   "metadata": {},
   "outputs": [],
   "source": [
    "# View Topic Summary\n",
    "print(\"📌 Topic Summary:\\n\", result[\"topic_summary\"])\n"
   ]
  },
  {
   "cell_type": "code",
   "execution_count": null,
   "id": "9d39c59e",
   "metadata": {},
   "outputs": [],
   "source": [
    "# View Summarized Papers\n",
    "for i, paper in enumerate(result[\"summarized_papers\"], 1):\n",
    "    print(f\"\\n--- Paper {i} ---\")\n",
    "    print(\"Title:\", paper[\"title\"])\n",
    "    print(\"Authors:\", \", \".join(paper[\"authors\"]))\n",
    "    print(\"Year:\", paper[\"year\"], \"| Citations:\", paper[\"citations\"])\n",
    "    print(\"Summary:\", paper[\"summary\"])\n",
    "    print(\"URL:\", paper[\"url\"])\n"
   ]
  },
  {
   "cell_type": "code",
   "execution_count": null,
   "id": "8a09499a",
   "metadata": {},
   "outputs": [],
   "source": [
    "# View Comparative Analysis\n",
    "print(\"\\n📊 Comparative Analysis:\\n\", result[\"comparative_analysis\"])\n"
   ]
  },
  {
   "cell_type": "code",
   "execution_count": null,
   "id": "d5539225",
   "metadata": {},
   "outputs": [],
   "source": [
    "# Export results to PDF\n",
    "pdf_path = export_to_pdf(result)\n",
    "print(\"PDF saved to:\", pdf_path)\n"
   ]
  },
  {
   "cell_type": "code",
   "execution_count": null,
   "id": "5ee130f2",
   "metadata": {},
   "outputs": [],
   "source": [
    "# Generate and display visualizations\n",
    "df = visualize_output(result)\n",
    "df  # Show table of papers and citations\n"
   ]
  },
  {
   "cell_type": "code",
   "execution_count": null,
   "id": "40bbcc58",
   "metadata": {},
   "outputs": [],
   "source": [
    "# Show generated images in notebook\n",
    "from IPython.display import Image, display\n",
    "\n",
    "display(Image(\"visualizations/citations_bar.png\"))\n",
    "display(Image(\"visualizations/years_bar.png\"))\n",
    "display(Image(\"visualizations/comparative_wordcloud.png\"))\n"
   ]
  }
 ],
 "metadata": {
  "kernelspec": {
   "display_name": "Python (jupyter-gpu)",
   "language": "python",
   "name": "jupyter-gpu"
  },
  "language_info": {
   "codemirror_mode": {
    "name": "ipython",
    "version": 3
   },
   "file_extension": ".py",
   "mimetype": "text/x-python",
   "name": "python",
   "nbconvert_exporter": "python",
   "pygments_lexer": "ipython3",
   "version": "3.10.16"
  }
 },
 "nbformat": 4,
 "nbformat_minor": 5
}
